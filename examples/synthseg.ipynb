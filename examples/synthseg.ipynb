{
 "cells": [
  {
   "cell_type": "markdown",
   "id": "0",
   "metadata": {},
   "source": [
    "# SynthSeg example\n",
    "\n",
    "In this example we will show how to use the `mri2mesh` package to visualize the voxels and to generate surfaces from a synthetic segmentation. The synthetic segmentation here is assumed to allready be generated using the `SynthSeg` package. The synthetic segmentation is a 3D volume where each voxel has a label. First we do the neccerasy imports and set the pyvista backend to `trame`. "
   ]
  },
  {
   "cell_type": "code",
   "execution_count": null,
   "id": "1",
   "metadata": {
    "lines_to_next_cell": 2
   },
   "outputs": [],
   "source": [
    "from pathlib import Path\n",
    "import mri2mesh\n",
    "import numpy as np\n",
    "import pyvista as pv\n",
    "\n",
    "pv.set_jupyter_backend('trame')"
   ]
  },
  {
   "cell_type": "markdown",
   "id": "2",
   "metadata": {},
   "source": [
    "Note that to get the visualization to show correctly you might need to set the following environment variables\n",
    "\n",
    "```\n",
    "export DISPLAY=\":99.0\"\n",
    "export PYVISTA_TRAME_SERVER_PROXY_PREFIX=\"/proxy/\"\n",
    "export PYVISTA_TRAME_SERVER_PROXY_ENABLED=\"True\"\n",
    "export PYVISTA_OFF_SCREEN=false\n",
    "export PYVISTA_JUPYTER_BACKEND=\"html\"\n",
    "```\n",
    "\n",
    "Next we will try to visualize a Nifty File with a volume clip. Here we will load a allready segmented brain from the dataset https://zenodo.org/records/4899120 (the `ernie` case), which has been segmented with [`SynthSeg`](https://github.com/BBillot/SynthSeg)"
   ]
  },
  {
   "cell_type": "code",
   "execution_count": null,
   "id": "3",
   "metadata": {},
   "outputs": [],
   "source": [
    "# Path to the Nifty file\n",
    "path = Path(\"201_t13d_synthseg.nii.gz\")\n",
    "mri2mesh.viz.volume_clip.main(path)"
   ]
  },
  {
   "cell_type": "markdown",
   "id": "4",
   "metadata": {},
   "source": [
    "We could also visualize it as a slice"
   ]
  },
  {
   "cell_type": "code",
   "execution_count": null,
   "id": "5",
   "metadata": {},
   "outputs": [],
   "source": [
    "mri2mesh.viz.volume_slice.main(path)"
   ]
  },
  {
   "cell_type": "markdown",
   "id": "6",
   "metadata": {},
   "source": [
    "Here we visualize all three slices, but you can all specify which axis to show by passing the `axis` keyword (showing all axis correspond to `axis=3`)"
   ]
  },
  {
   "cell_type": "code",
   "execution_count": null,
   "id": "7",
   "metadata": {},
   "outputs": [],
   "source": [
    "mri2mesh.viz.volume_slice.main(path, axis=2)"
   ]
  },
  {
   "cell_type": "markdown",
   "id": "8",
   "metadata": {},
   "source": [
    "To see all the different visalization options you can do"
   ]
  },
  {
   "cell_type": "code",
   "execution_count": null,
   "id": "9",
   "metadata": {},
   "outputs": [],
   "source": [
    "mri2mesh.viz.list_viz_commands()"
   ]
  },
  {
   "cell_type": "markdown",
   "id": "10",
   "metadata": {},
   "source": [
    "You can also visualize `numpy`arrays directly, for example by first loadind the Nifty file with `nibabel`"
   ]
  },
  {
   "cell_type": "code",
   "execution_count": null,
   "id": "11",
   "metadata": {},
   "outputs": [],
   "source": [
    "import nibabel as nib\n",
    "\n",
    "img = nib.load(path)\n",
    "vol = img.get_fdata()"
   ]
  },
  {
   "cell_type": "markdown",
   "id": "12",
   "metadata": {},
   "source": [
    "However, you would need to first convert the volume to a vtk object"
   ]
  },
  {
   "cell_type": "code",
   "execution_count": null,
   "id": "13",
   "metadata": {},
   "outputs": [],
   "source": [
    "img = mri2mesh.vtk_utils.numpy_to_vtkImageData(vol)"
   ]
  },
  {
   "cell_type": "markdown",
   "id": "14",
   "metadata": {},
   "source": [
    "Now, you can visualize the image directly"
   ]
  },
  {
   "cell_type": "code",
   "execution_count": null,
   "id": "15",
   "metadata": {},
   "outputs": [],
   "source": [
    "mri2mesh.viz.volume_clip.volume_clip(img)"
   ]
  },
  {
   "cell_type": "markdown",
   "id": "16",
   "metadata": {},
   "source": [
    "The volume contains different labels for the different regions. For example we could plot different slices for the background, which has the label `0`. Let us plot a $5\\times 5$ grid for the slices in the $x$-direction"
   ]
  },
  {
   "cell_type": "code",
   "execution_count": null,
   "id": "17",
   "metadata": {},
   "outputs": [],
   "source": [
    "mask = vol == 0\n",
    "mri2mesh.viz.mpl_slice.plot_slices(mask, cmap=\"gray\", add_colorbar=True, nx=5, ny=5, slice=\"y\")"
   ]
  },
  {
   "cell_type": "markdown",
   "id": "18",
   "metadata": {},
   "source": [
    "Since this particular image is segmented with `SynthSeg` we know the labels for each region. These are also found in "
   ]
  },
  {
   "cell_type": "code",
   "execution_count": null,
   "id": "19",
   "metadata": {},
   "outputs": [],
   "source": [
    "labels = mri2mesh.segmentation_labels.SYNTHSEG_LABELS\n",
    "for k, v in labels.items():\n",
    "    print(f\"{k}: {v}\")"
   ]
  },
  {
   "cell_type": "markdown",
   "id": "20",
   "metadata": {},
   "source": [
    "## Extracting the surface of the paranchyma\n",
    "\n",
    "We can first try to extract the parenchyma surface. To do this we first extract all the labels that are not fluid, and then we first remove small objects and then fill inn the small holes"
   ]
  },
  {
   "cell_type": "code",
   "execution_count": null,
   "id": "21",
   "metadata": {},
   "outputs": [],
   "source": [
    "import skimage.morphology as skim\n",
    "\n",
    "par_mask = np.logical_not(np.isin(vol, labels[\"FLUID\"]))\n",
    "par_mask = skim.remove_small_objects(par_mask, mri2mesh.constants.HOLE_THRESHOLD)\n",
    "par_mask = skim.remove_small_holes(par_mask, mri2mesh.constants.HOLE_THRESHOLD)"
   ]
  },
  {
   "cell_type": "markdown",
   "id": "22",
   "metadata": {},
   "source": [
    "We can now plot the slices of the corresponding mask"
   ]
  },
  {
   "cell_type": "code",
   "execution_count": null,
   "id": "23",
   "metadata": {},
   "outputs": [],
   "source": [
    "mri2mesh.viz.mpl_slice.plot_slices(par_mask, cmap=\"gray\", add_colorbar=True, nx=5, ny=5, slice=\"z\")"
   ]
  },
  {
   "cell_type": "markdown",
   "id": "24",
   "metadata": {},
   "source": [
    "We can also extract the isosurface of the mask by first converting the mask to a vtk object and then plotting it with pyvista"
   ]
  },
  {
   "cell_type": "code",
   "execution_count": null,
   "id": "25",
   "metadata": {},
   "outputs": [],
   "source": [
    "par_mask_img = mri2mesh.vtk_utils.numpy_to_vtkImageData(par_mask.astype(int))\n",
    "plotter = pv.Plotter()\n",
    "par_mask_isosurface = par_mask_img.contour([1.0])\n",
    "plotter.add_mesh_clip_plane(par_mask_isosurface, color=\"white\", show_edges=True)\n",
    "plotter.show()"
   ]
  },
  {
   "cell_type": "markdown",
   "id": "26",
   "metadata": {},
   "source": [
    "Now let us generate the surface using the marching cubes algorithm"
   ]
  },
  {
   "cell_type": "code",
   "execution_count": null,
   "id": "27",
   "metadata": {},
   "outputs": [],
   "source": [
    "par_surf = mri2mesh.surface.utils.extract_surface(par_mask)\n",
    "\n",
    "plotter = pv.Plotter()\n",
    "plotter.add_mesh_clip_plane(par_surf)\n",
    "plotter.show()"
   ]
  },
  {
   "cell_type": "markdown",
   "id": "28",
   "metadata": {},
   "source": [
    "## Extracting surfaces of the lateral ventricles \n",
    "\n",
    "Another serfacce we could extract is the surface of the left and right lateral ventricles with label 4 and 43 respectively. You can first plot the slices"
   ]
  },
  {
   "cell_type": "code",
   "execution_count": null,
   "id": "29",
   "metadata": {},
   "outputs": [],
   "source": [
    "mask_lateral_ventricles = np.logical_or(vol == 4, vol == 43)\n",
    "mri2mesh.viz.mpl_slice.plot_slices(mask_lateral_ventricles, cmap=\"gray\", add_colorbar=True, nx=5, ny=5, slice=\"z\")"
   ]
  },
  {
   "cell_type": "markdown",
   "id": "30",
   "metadata": {},
   "source": [
    "We can also plot the isosurface with pyvista"
   ]
  },
  {
   "cell_type": "code",
   "execution_count": null,
   "id": "31",
   "metadata": {},
   "outputs": [],
   "source": [
    "mask_lateral_ventricles_img = mri2mesh.vtk_utils.numpy_to_vtkImageData(mask_lateral_ventricles.astype(int))\n",
    "plotter = pv.Plotter()\n",
    "surface = mask_lateral_ventricles_img.contour([1.0])\n",
    "plotter.add_mesh(surface)\n",
    "plotter.show()"
   ]
  },
  {
   "cell_type": "markdown",
   "id": "32",
   "metadata": {},
   "source": [
    "We can now generate a surface of this mask using `pyvista`"
   ]
  },
  {
   "cell_type": "code",
   "execution_count": null,
   "id": "33",
   "metadata": {},
   "outputs": [],
   "source": [
    "surf_lateral_ventricles = mri2mesh.surface.utils.extract_surface(mask_lateral_ventricles)"
   ]
  },
  {
   "cell_type": "markdown",
   "id": "34",
   "metadata": {},
   "source": [
    "Let us plot the surface with `pyvista`"
   ]
  },
  {
   "cell_type": "code",
   "execution_count": null,
   "id": "35",
   "metadata": {},
   "outputs": [],
   "source": [
    "surf_lateral_ventricles = mri2mesh.surface.utils.extract_surface(mask_lateral_ventricles)\n",
    "plotter = pv.Plotter()\n",
    "plotter.add_mesh(surf_lateral_ventricles)\n",
    "plotter.show()"
   ]
  },
  {
   "cell_type": "markdown",
   "id": "36",
   "metadata": {},
   "source": [
    "We see that the surface is not very smooth, but we can use the `smooth_taubin` method to smooth it\n"
   ]
  },
  {
   "cell_type": "code",
   "execution_count": null,
   "id": "37",
   "metadata": {},
   "outputs": [],
   "source": [
    "surf_lateral_ventricles_smooth = surf_lateral_ventricles.smooth_taubin(n_iter=20, pass_band=0.05)\n",
    "plotter = pv.Plotter()\n",
    "plotter.add_mesh(surf_lateral_ventricles)\n",
    "plotter.show()"
   ]
  },
  {
   "cell_type": "code",
   "execution_count": null,
   "id": "38",
   "metadata": {},
   "outputs": [],
   "source": []
  }
 ],
 "metadata": {
  "jupytext": {
   "cell_metadata_filter": "-all",
   "main_language": "python",
   "notebook_metadata_filter": "-all"
  },
  "kernelspec": {
   "display_name": "Python 3 (ipykernel)",
   "language": "python",
   "name": "python3"
  },
  "language_info": {
   "codemirror_mode": {
    "name": "ipython",
    "version": 3
   },
   "file_extension": ".py",
   "mimetype": "text/x-python",
   "name": "python",
   "nbconvert_exporter": "python",
   "pygments_lexer": "ipython3",
   "version": "3.11.4"
  }
 },
 "nbformat": 4,
 "nbformat_minor": 5
}
