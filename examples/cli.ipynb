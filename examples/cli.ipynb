{
 "cells": [
  {
   "cell_type": "markdown",
   "id": "0",
   "metadata": {},
   "source": [
    "# Command line interface\n",
    "\n",
    "The package comes with a command line interface called `mri2mesh`.\n",
    "\n",
    "*Note: In this documentation we will start the commands with `!` but this is only to make it run. In the terminal you should ommit the `!`*\n",
    "\n",
    "You can list the different commands with `--help`"
   ]
  },
  {
   "cell_type": "code",
   "execution_count": null,
   "id": "1",
   "metadata": {},
   "outputs": [],
   "source": [
    "!mri2mesh --help"
   ]
  },
  {
   "cell_type": "markdown",
   "id": "2",
   "metadata": {},
   "source": [
    "## Listing segmentation labels\n",
    "\n",
    "One simeple thing you can do is to list the segmentation labels for different segmentation software. "
   ]
  },
  {
   "cell_type": "code",
   "execution_count": null,
   "id": "3",
   "metadata": {},
   "outputs": [],
   "source": [
    "!mri2mesh labels --help"
   ]
  },
  {
   "cell_type": "markdown",
   "id": "4",
   "metadata": {},
   "source": [
    "For example for [synthseg](https://github.com/BBillot/SynthSeg) you can do"
   ]
  },
  {
   "cell_type": "code",
   "execution_count": null,
   "id": "5",
   "metadata": {},
   "outputs": [],
   "source": [
    "!mri2mesh labels synthseg"
   ]
  },
  {
   "cell_type": "markdown",
   "id": "6",
   "metadata": {},
   "source": [
    "## Generating surfaces\n",
    "\n",
    "To see all options for generating surfaces you can again pass the help command"
   ]
  },
  {
   "cell_type": "code",
   "execution_count": null,
   "id": "7",
   "metadata": {},
   "outputs": [],
   "source": [
    "!mri2mesh surface --help"
   ]
  },
  {
   "cell_type": "markdown",
   "id": "8",
   "metadata": {},
   "source": [
    "Let ut create an indealized brain and put the surfaces in a new folder"
   ]
  },
  {
   "cell_type": "code",
   "execution_count": null,
   "id": "9",
   "metadata": {},
   "outputs": [],
   "source": [
    "!mri2mesh surface idealized --help"
   ]
  },
  {
   "cell_type": "code",
   "execution_count": null,
   "id": "10",
   "metadata": {},
   "outputs": [],
   "source": [
    "!rm -rf idealized-brain\n",
    "!mri2mesh surface idealized -o idealized-brain"
   ]
  },
  {
   "cell_type": "markdown",
   "id": "11",
   "metadata": {},
   "source": [
    "Let us see which files that was generated"
   ]
  },
  {
   "cell_type": "code",
   "execution_count": null,
   "id": "12",
   "metadata": {},
   "outputs": [],
   "source": [
    "!ls idealized-brain"
   ]
  },
  {
   "cell_type": "markdown",
   "id": "13",
   "metadata": {},
   "source": [
    "We can for example take a look at the parameters the was used"
   ]
  },
  {
   "cell_type": "code",
   "execution_count": null,
   "id": "14",
   "metadata": {},
   "outputs": [],
   "source": [
    "!cat idealized-brain/surface_parameters.json"
   ]
  },
  {
   "cell_type": "markdown",
   "id": "15",
   "metadata": {},
   "source": [
    "## Generating meshes\n",
    "\n",
    "We will now show how to create a mesh from the surfaces"
   ]
  },
  {
   "cell_type": "code",
   "execution_count": null,
   "id": "16",
   "metadata": {},
   "outputs": [],
   "source": [
    "!mri2mesh mesh --help"
   ]
  },
  {
   "cell_type": "markdown",
   "id": "17",
   "metadata": {},
   "source": [
    "We will start by creating a mesh with the `create` command"
   ]
  },
  {
   "cell_type": "code",
   "execution_count": null,
   "id": "18",
   "metadata": {},
   "outputs": [],
   "source": [
    "!mri2mesh mesh create --help"
   ]
  },
  {
   "cell_type": "markdown",
   "id": "19",
   "metadata": {},
   "source": [
    "We see that this command takes a config file as input. We can generate a template for this config file using the `template` command"
   ]
  },
  {
   "cell_type": "code",
   "execution_count": null,
   "id": "20",
   "metadata": {},
   "outputs": [],
   "source": [
    "!mri2mesh mesh template ."
   ]
  },
  {
   "cell_type": "markdown",
   "id": "21",
   "metadata": {},
   "source": [
    "Let us have a look at this file"
   ]
  },
  {
   "cell_type": "code",
   "execution_count": null,
   "id": "22",
   "metadata": {},
   "outputs": [],
   "source": [
    "!cat config.json"
   ]
  },
  {
   "cell_type": "markdown",
   "id": "23",
   "metadata": {},
   "source": [
    "Most of these key-value pairs are paramerters to the meshing algorithm. The `csg_tree` describes how to combine the surfaces into a mesh and also create proper subdomains. In our case we would like to take the union of all surfaces. We can do this by first taking the union of `LV.ply` and `V34.ply` into a right component and `skull.ply` and `parenchyma_incl_ventr.ply` into a left component, and then finally take the union of the left and right component. In the template however, we need to update the paths because the surfaces are located in the folder `idealized-brain`. Let us also change the output directory to the same folder."
   ]
  },
  {
   "cell_type": "code",
   "execution_count": null,
   "id": "24",
   "metadata": {},
   "outputs": [],
   "source": [
    "from pathlib import Path\n",
    "import json\n",
    "\n",
    "config_fname = Path(\"config.json\")\n",
    "config = json.loads(config_fname.read_text())\n",
    "surface_folder = \"idealized-brain\"\n",
    "config[\"outdir\"] = surface_folder\n",
    "csg_tree = {\n",
    "    \"operation\": \"union\",\n",
    "    \"right\": {\n",
    "      \"operation\": \"union\",\n",
    "      \"left\": f\"{surface_folder}/LV.ply\",\n",
    "      \"right\": f\"{surface_folder}/V34.ply\"\n",
    "    },\n",
    "    \"left\": {\n",
    "      \"operation\": \"union\",\n",
    "      \"left\": f\"{surface_folder}/skull.ply\",\n",
    "      \"right\": f\"{surface_folder}/parenchyma_incl_ventr.ply\"\n",
    "    }\n",
    "}\n",
    "config[\"csg_tree\"] = csg_tree\n",
    "config_fname.write_text(json.dumps(config))"
   ]
  },
  {
   "cell_type": "markdown",
   "id": "25",
   "metadata": {},
   "source": [
    "We can now create the mesh by passing in the config file"
   ]
  },
  {
   "cell_type": "code",
   "execution_count": null,
   "id": "26",
   "metadata": {},
   "outputs": [],
   "source": [
    "!mri2mesh mesh create config.json"
   ]
  },
  {
   "cell_type": "markdown",
   "id": "27",
   "metadata": {},
   "source": [
    "Let us have a look at the mesh"
   ]
  },
  {
   "cell_type": "code",
   "execution_count": null,
   "id": "28",
   "metadata": {},
   "outputs": [],
   "source": [
    "from mpi4py import MPI\n",
    "import dolfinx\n",
    "\n",
    "with dolfinx.io.XDMFFile(MPI.COMM_WORLD, f\"{surface_folder}/mesh.xdmf\", \"r\") as xdmf:\n",
    "    mesh = xdmf.read_mesh(name=\"mesh\")\n",
    "    cell_tags = xdmf.read_meshtags(mesh, name=\"cell_tags\")\n"
   ]
  },
  {
   "cell_type": "code",
   "execution_count": null,
   "id": "29",
   "metadata": {},
   "outputs": [],
   "source": [
    "import pyvista as pv \n",
    "\n",
    "pv.start_xvfb()\n",
    "vtk_mesh = dolfinx.plot.vtk_mesh(mesh, cell_tags.dim, cell_tags.indices)\n",
    "bgrid = pv.UnstructuredGrid(*vtk_mesh)\n",
    "bgrid.cell_data[\"Cell tags\"] = cell_tags.values\n",
    "bgrid.set_active_scalars(\"Cell tags\")\n",
    "p = pv.Plotter(window_size=[800, 800])\n",
    "p.add_mesh_clip_plane(bgrid)\n",
    "if not pv.OFF_SCREEN:\n",
    "    p.show()\n",
    "else:\n",
    "    figure = p.screenshot(\"idealized_brain.png\")"
   ]
  },
  {
   "cell_type": "code",
   "execution_count": null,
   "id": "30",
   "metadata": {},
   "outputs": [],
   "source": []
  }
 ],
 "metadata": {
  "kernelspec": {
   "display_name": "Python 3 (ipykernel)",
   "language": "python",
   "name": "python3"
  },
  "language_info": {
   "codemirror_mode": {
    "name": "ipython",
    "version": 3
   },
   "file_extension": ".py",
   "mimetype": "text/x-python",
   "name": "python",
   "nbconvert_exporter": "python",
   "pygments_lexer": "ipython3",
   "version": "3.12.9"
  }
 },
 "nbformat": 4,
 "nbformat_minor": 5
}
